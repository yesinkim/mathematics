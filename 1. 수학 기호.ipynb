{
 "cells": [
  {
   "cell_type": "markdown",
   "metadata": {},
   "source": [
    "## 1. 1 그리스 문자"
   ]
  },
  {
   "cell_type": "markdown",
   "metadata": {},
   "source": [
    "$$\n",
    "\\Alpha \\alpha \\\\\n",
    "\\Beta \\beta  \\\\\n",
    "\\Gamma \\gamma \\\\\n",
    "\\Delta \\delta \\\\\n",
    "\\Epsilon \\epsilon \\\\\n",
    "\\Zeta \\zeta \\\\\n",
    "\\Eta \\eta \\\\\n",
    "\\Theta \\theta \\\\\n",
    "\\Kappa \\kappa \\\\\n",
    "\\Lambda \\lambda \\\\\n",
    "\\Mu \\mu \\\\\n",
    "\\Nu \\nu \\\\\n",
    "\\Xi \\xi \\\\\n",
    "\\Pi \\pi \\\\\n",
    "\\Rho \\rho \\\\\n",
    "\\Sigma \\sigma \\\\\n",
    "\\Tau \\tau \\\\\n",
    "\\Phi \\phi \\\\\n",
    "\\Chi \\chi \\\\\n",
    "\\Psi \\psi \\\\\n",
    "\\Omega \\omega \\\\\n",
    "$$"
   ]
  },
  {
   "cell_type": "markdown",
   "metadata": {},
   "source": [
    "## 1.2 수열과 집합의 합과 곱"
   ]
  },
  {
   "cell_type": "markdown",
   "metadata": {},
   "source": [
    "\\begin{align}\n",
    "x_1, x_2, \\ldots, x_N \\tag{1.2.3}\n",
    "\\end{align}"
   ]
  },
  {
   "cell_type": "markdown",
   "metadata": {},
   "source": [
    "\\begin{align}\n",
    "x \\in \\mathbf{R} \\tag{1.2.9}\n",
    "\\end{align}\n",
    "\n",
    "Big R -> `\\mathbf{R}`"
   ]
  },
  {
   "cell_type": "markdown",
   "metadata": {},
   "source": [
    "# 수열의 합과 곱\n",
    "$\\begin{align}\n",
    "\\sum_{i=1}^4 i = 1 + 2 + 3 + 4\n",
    "\\tag{1.2.14}\n",
    "\\end{align}\n",
    "$"
   ]
  },
  {
   "cell_type": "markdown",
   "metadata": {},
   "source": [
    "## 연습문제 1.2.1\n",
    "\n",
    "(1) 이 식은 분류 모형 중의 하나인 서포트 벡터 머신(support vector machine) 모형에 나온다. $\\begin{align}\n",
    "\\sum_{i=1}^3\\sum_{j=1}^3 a_i a_j y_i y_j x_i x_j\n",
    "\\tag{1.2.20}\n",
    "\\end{align}$\n",
    "\n",
    "->\n",
    "$(\\sum_{i=1}^3 a_i y_i x_i) \\cdot  (\\sum_{j=1}^3 a_j y_j x_j)$\n",
    "\n",
    "->\n",
    "$\n",
    "(a_1 y_1 x_1 + a_2 y_2 x_2 + a_3 y_3 x_3) \\cdot (a_1 y_1 x_1 + a_2 y_2 x_2 + a_3 y_3 x_3)$\n"
   ]
  },
  {
   "cell_type": "markdown",
   "metadata": {},
   "source": [
    "(2) 이 식은 특잇값 분해(singular value decomposition)에 나온다. $\n",
    "\\begin{align}\n",
    "\\sum_{k=1}^3 \\sum_{i=1}^3 \\sigma^2_i (v_iw_k)^2\n",
    "\\tag{1.2.21}\n",
    "\\end{align}$\n",
    "\n",
    "-> k에 대해 먼저 전개함\n",
    "\n",
    "$ (\\sum_{i=1}^3 \\sigma^2(v_i w_1)^2) + (\\sum_{i=1}^3 \\sigma^2(v_i w_2)^2) + (\\sum_{i=1}^3 \\sigma^2(v_i w_3)^2)\n",
    "$\n",
    "\n",
    "\n",
    "-> i 전개 \n",
    "\n",
    "$(\\sigma^2_1(v_1 w_1)^2 + \\sigma^2_2(v_2 w_1)^2 + \\sigma^2_3(v_3 w_1)^2) + (\\sigma^2_1(v_1 w_2)^2 + \\sigma^2_2(v_2 w_2)^2 + \\sigma^2_3(v_3 w_2)^2) + \n",
    "(\\sigma^2_1(v_1 w_3)^2 + \\sigma^2_2(v_2 w_3)^2 + \\sigma^2_3(v_3 w_3)^2)$"
   ]
  },
  {
   "cell_type": "markdown",
   "metadata": {},
   "source": [
    "(3) 이 식은 카테고리 분포(categorical distribution)의 추정에 사용된다. \n",
    "$\\begin{align}\n",
    "\\prod_{i=1}^4 \\prod_{k=1}^4 \\theta_k^{x_{i,k}}\n",
    "\\tag{1.2.22}\n",
    "\\end{align}\n",
    "$"
   ]
  },
  {
   "cell_type": "markdown",
   "metadata": {},
   "source": [
    "(4) 가우시안 혼합 모형(Gaussian mixture model)에 다음과 비슷한 수식이 나온다. \n",
    "$\\begin{align}\n",
    "\\prod_{i=1}^4 \\sum_{k=1}^2 \\pi_k x_i \\mu_k\n",
    "\\tag{1.2.23}\n",
    "\\end{align}\n",
    "$"
   ]
  },
  {
   "cell_type": "markdown",
   "metadata": {},
   "source": [
    "### Extra: \n",
    "https://m.blog.naver.com/mindmapmath/221892204592\n",
    "\n",
    "$$\\sum_{k=1}^n \\sum_{i=1}^k (i+k) = 147$$\n",
    "\n",
    "<!-- 이건 더 모르겠다! -->"
   ]
  },
  {
   "cell_type": "code",
   "execution_count": null,
   "metadata": {
    "vscode": {
     "languageId": "plaintext"
    }
   },
   "outputs": [],
   "source": []
  },
  {
   "cell_type": "code",
   "execution_count": null,
   "metadata": {
    "vscode": {
     "languageId": "plaintext"
    }
   },
   "outputs": [],
   "source": []
  }
 ],
 "metadata": {
  "kernelspec": {
   "display_name": "estud",
   "language": "python",
   "name": "python3"
  },
  "language_info": {
   "codemirror_mode": {
    "name": "ipython",
    "version": 3
   },
   "file_extension": ".py",
   "mimetype": "text/x-python",
   "name": "python",
   "nbconvert_exporter": "python",
   "pygments_lexer": "ipython3",
   "version": "3.8.13"
  },
  "orig_nbformat": 4
 },
 "nbformat": 4,
 "nbformat_minor": 2
}
